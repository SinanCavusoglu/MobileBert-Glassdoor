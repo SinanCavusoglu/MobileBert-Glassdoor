{
 "cells": [
  {
   "cell_type": "code",
   "execution_count": 57,
   "metadata": {
    "executionInfo": {
     "elapsed": 259,
     "status": "ok",
     "timestamp": 1713092039678,
     "user": {
      "displayName": "Sinan Cavusoglu",
      "userId": "06975447756133709697"
     },
     "user_tz": -180
    },
    "id": "Qb0GQ7XfUA7U"
   },
   "outputs": [],
   "source": [
    "import pandas as pd\n",
    "import seaborn as sns\n",
    "import matplotlib.pyplot as plt\n",
    "import re\n",
    "plt.rcParams[\"figure.figsize\"] = [14, 6]\n",
    "sns.set(style=\"whitegrid\", palette=\"bright\", font_scale=1.2)\n",
    "pd.set_option(\"display.max_colwidth\", None)\n",
    "\n",
    "device = torch.device(\"cuda:0\" if torch.cuda.is_available() else \"cpu\")"
   ]
  },
  {
   "cell_type": "markdown",
   "metadata": {
    "id": "4cfm_JatjvSL"
   },
   "source": [
    "## First Look"
   ]
  },
  {
   "cell_type": "code",
   "execution_count": 58,
   "metadata": {
    "colab": {
     "base_uri": "https://localhost:8080/",
     "height": 1000
    },
    "executionInfo": {
     "elapsed": 7913,
     "status": "ok",
     "timestamp": 1713092047875,
     "user": {
      "displayName": "Sinan Cavusoglu",
      "userId": "06975447756133709697"
     },
     "user_tz": -180
    },
    "id": "gz6UcIEgh2Zr",
    "outputId": "5e988bef-08ca-45e2-fe56-2ec337ab8e95"
   },
   "outputs": [
    {
     "data": {
      "application/vnd.google.colaboratory.intrinsic+json": {
       "type": "dataframe",
       "variable_name": "df"
      },
      "text/html": [
       "\n",
       "  <div id=\"df-c710b0b5-9773-4bdd-a406-4b3a097a269b\" class=\"colab-df-container\">\n",
       "    <div>\n",
       "<style scoped>\n",
       "    .dataframe tbody tr th:only-of-type {\n",
       "        vertical-align: middle;\n",
       "    }\n",
       "\n",
       "    .dataframe tbody tr th {\n",
       "        vertical-align: top;\n",
       "    }\n",
       "\n",
       "    .dataframe thead th {\n",
       "        text-align: right;\n",
       "    }\n",
       "</style>\n",
       "<table border=\"1\" class=\"dataframe\">\n",
       "  <thead>\n",
       "    <tr style=\"text-align: right;\">\n",
       "      <th></th>\n",
       "      <th>firm</th>\n",
       "      <th>date_review</th>\n",
       "      <th>job_title</th>\n",
       "      <th>current</th>\n",
       "      <th>location</th>\n",
       "      <th>overall_rating</th>\n",
       "      <th>work_life_balance</th>\n",
       "      <th>culture_values</th>\n",
       "      <th>diversity_inclusion</th>\n",
       "      <th>career_opp</th>\n",
       "      <th>comp_benefits</th>\n",
       "      <th>senior_mgmt</th>\n",
       "      <th>recommend</th>\n",
       "      <th>ceo_approv</th>\n",
       "      <th>outlook</th>\n",
       "      <th>headline</th>\n",
       "      <th>pros</th>\n",
       "      <th>cons</th>\n",
       "    </tr>\n",
       "  </thead>\n",
       "  <tbody>\n",
       "    <tr>\n",
       "      <th>0</th>\n",
       "      <td>AFH-Wealth-Management</td>\n",
       "      <td>2015-04-05</td>\n",
       "      <td></td>\n",
       "      <td>Current Employee</td>\n",
       "      <td>NaN</td>\n",
       "      <td>2</td>\n",
       "      <td>4.0</td>\n",
       "      <td>3.0</td>\n",
       "      <td>NaN</td>\n",
       "      <td>2.0</td>\n",
       "      <td>3.0</td>\n",
       "      <td>3.0</td>\n",
       "      <td>x</td>\n",
       "      <td>o</td>\n",
       "      <td>r</td>\n",
       "      <td>Young colleagues, poor micro management</td>\n",
       "      <td>Very friendly and welcoming to new staff. Easy going ethic.</td>\n",
       "      <td>Poor salaries, poor training and communication.</td>\n",
       "    </tr>\n",
       "    <tr>\n",
       "      <th>1</th>\n",
       "      <td>AFH-Wealth-Management</td>\n",
       "      <td>2015-12-11</td>\n",
       "      <td>Office Administrator</td>\n",
       "      <td>Current Employee, more than 1 year</td>\n",
       "      <td>Bromsgrove, England, England</td>\n",
       "      <td>2</td>\n",
       "      <td>3.0</td>\n",
       "      <td>1.0</td>\n",
       "      <td>NaN</td>\n",
       "      <td>2.0</td>\n",
       "      <td>1.0</td>\n",
       "      <td>4.0</td>\n",
       "      <td>x</td>\n",
       "      <td>o</td>\n",
       "      <td>r</td>\n",
       "      <td>Excellent staff, poor salary</td>\n",
       "      <td>Friendly, helpful and hard-working colleagues</td>\n",
       "      <td>Poor salary which doesn't improve much with progression, no incentive to work harder, high turnover of staff, poor systems</td>\n",
       "    </tr>\n",
       "    <tr>\n",
       "      <th>2</th>\n",
       "      <td>AFH-Wealth-Management</td>\n",
       "      <td>2016-01-28</td>\n",
       "      <td>Office Administrator</td>\n",
       "      <td>Current Employee, less than 1 year</td>\n",
       "      <td>Bromsgrove, England, England</td>\n",
       "      <td>1</td>\n",
       "      <td>1.0</td>\n",
       "      <td>1.0</td>\n",
       "      <td>NaN</td>\n",
       "      <td>1.0</td>\n",
       "      <td>1.0</td>\n",
       "      <td>1.0</td>\n",
       "      <td>x</td>\n",
       "      <td>o</td>\n",
       "      <td>x</td>\n",
       "      <td>Low salary, bad micromanagement</td>\n",
       "      <td>Easy to get the job even without experience in finance</td>\n",
       "      <td>Very low salary, poor working conditions, very little training provided but high expectations. Micro management are young, inexperienced and superficial girls who are not able to provide guidance and support for their teams.</td>\n",
       "    </tr>\n",
       "    <tr>\n",
       "      <th>3</th>\n",
       "      <td>AFH-Wealth-Management</td>\n",
       "      <td>2016-04-16</td>\n",
       "      <td></td>\n",
       "      <td>Current Employee</td>\n",
       "      <td>NaN</td>\n",
       "      <td>5</td>\n",
       "      <td>2.0</td>\n",
       "      <td>3.0</td>\n",
       "      <td>NaN</td>\n",
       "      <td>2.0</td>\n",
       "      <td>2.0</td>\n",
       "      <td>3.0</td>\n",
       "      <td>x</td>\n",
       "      <td>o</td>\n",
       "      <td>r</td>\n",
       "      <td>Over promised under delivered</td>\n",
       "      <td>Nice staff to work with</td>\n",
       "      <td>No career progression and salary is poor</td>\n",
       "    </tr>\n",
       "    <tr>\n",
       "      <th>4</th>\n",
       "      <td>AFH-Wealth-Management</td>\n",
       "      <td>2016-04-23</td>\n",
       "      <td>Office Administrator</td>\n",
       "      <td>Current Employee, more than 1 year</td>\n",
       "      <td>Bromsgrove, England, England</td>\n",
       "      <td>1</td>\n",
       "      <td>2.0</td>\n",
       "      <td>1.0</td>\n",
       "      <td>NaN</td>\n",
       "      <td>2.0</td>\n",
       "      <td>1.0</td>\n",
       "      <td>1.0</td>\n",
       "      <td>x</td>\n",
       "      <td>o</td>\n",
       "      <td>x</td>\n",
       "      <td>client reporting admin</td>\n",
       "      <td>Easy to get the job, Nice colleagues.</td>\n",
       "      <td>Abysmal pay, around minimum wage. No actual training for your job role. No incentive to improve. training. Leaves a bad taste in the mouth when the CEO drives a roll royce and the majority of the workers are payed so lowly</td>\n",
       "    </tr>\n",
       "  </tbody>\n",
       "</table>\n",
       "</div>\n",
       "    <div class=\"colab-df-buttons\">\n",
       "\n",
       "  <div class=\"colab-df-container\">\n",
       "    <button class=\"colab-df-convert\" onclick=\"convertToInteractive('df-c710b0b5-9773-4bdd-a406-4b3a097a269b')\"\n",
       "            title=\"Convert this dataframe to an interactive table.\"\n",
       "            style=\"display:none;\">\n",
       "\n",
       "  <svg xmlns=\"http://www.w3.org/2000/svg\" height=\"24px\" viewBox=\"0 -960 960 960\">\n",
       "    <path d=\"M120-120v-720h720v720H120Zm60-500h600v-160H180v160Zm220 220h160v-160H400v160Zm0 220h160v-160H400v160ZM180-400h160v-160H180v160Zm440 0h160v-160H620v160ZM180-180h160v-160H180v160Zm440 0h160v-160H620v160Z\"/>\n",
       "  </svg>\n",
       "    </button>\n",
       "\n",
       "  <style>\n",
       "    .colab-df-container {\n",
       "      display:flex;\n",
       "      gap: 12px;\n",
       "    }\n",
       "\n",
       "    .colab-df-convert {\n",
       "      background-color: #E8F0FE;\n",
       "      border: none;\n",
       "      border-radius: 50%;\n",
       "      cursor: pointer;\n",
       "      display: none;\n",
       "      fill: #1967D2;\n",
       "      height: 32px;\n",
       "      padding: 0 0 0 0;\n",
       "      width: 32px;\n",
       "    }\n",
       "\n",
       "    .colab-df-convert:hover {\n",
       "      background-color: #E2EBFA;\n",
       "      box-shadow: 0px 1px 2px rgba(60, 64, 67, 0.3), 0px 1px 3px 1px rgba(60, 64, 67, 0.15);\n",
       "      fill: #174EA6;\n",
       "    }\n",
       "\n",
       "    .colab-df-buttons div {\n",
       "      margin-bottom: 4px;\n",
       "    }\n",
       "\n",
       "    [theme=dark] .colab-df-convert {\n",
       "      background-color: #3B4455;\n",
       "      fill: #D2E3FC;\n",
       "    }\n",
       "\n",
       "    [theme=dark] .colab-df-convert:hover {\n",
       "      background-color: #434B5C;\n",
       "      box-shadow: 0px 1px 3px 1px rgba(0, 0, 0, 0.15);\n",
       "      filter: drop-shadow(0px 1px 2px rgba(0, 0, 0, 0.3));\n",
       "      fill: #FFFFFF;\n",
       "    }\n",
       "  </style>\n",
       "\n",
       "    <script>\n",
       "      const buttonEl =\n",
       "        document.querySelector('#df-c710b0b5-9773-4bdd-a406-4b3a097a269b button.colab-df-convert');\n",
       "      buttonEl.style.display =\n",
       "        google.colab.kernel.accessAllowed ? 'block' : 'none';\n",
       "\n",
       "      async function convertToInteractive(key) {\n",
       "        const element = document.querySelector('#df-c710b0b5-9773-4bdd-a406-4b3a097a269b');\n",
       "        const dataTable =\n",
       "          await google.colab.kernel.invokeFunction('convertToInteractive',\n",
       "                                                    [key], {});\n",
       "        if (!dataTable) return;\n",
       "\n",
       "        const docLinkHtml = 'Like what you see? Visit the ' +\n",
       "          '<a target=\"_blank\" href=https://colab.research.google.com/notebooks/data_table.ipynb>data table notebook</a>'\n",
       "          + ' to learn more about interactive tables.';\n",
       "        element.innerHTML = '';\n",
       "        dataTable['output_type'] = 'display_data';\n",
       "        await google.colab.output.renderOutput(dataTable, element);\n",
       "        const docLink = document.createElement('div');\n",
       "        docLink.innerHTML = docLinkHtml;\n",
       "        element.appendChild(docLink);\n",
       "      }\n",
       "    </script>\n",
       "  </div>\n",
       "\n",
       "\n",
       "<div id=\"df-e7ebc7bf-6461-4288-802c-b4a4cd4d14ee\">\n",
       "  <button class=\"colab-df-quickchart\" onclick=\"quickchart('df-e7ebc7bf-6461-4288-802c-b4a4cd4d14ee')\"\n",
       "            title=\"Suggest charts\"\n",
       "            style=\"display:none;\">\n",
       "\n",
       "<svg xmlns=\"http://www.w3.org/2000/svg\" height=\"24px\"viewBox=\"0 0 24 24\"\n",
       "     width=\"24px\">\n",
       "    <g>\n",
       "        <path d=\"M19 3H5c-1.1 0-2 .9-2 2v14c0 1.1.9 2 2 2h14c1.1 0 2-.9 2-2V5c0-1.1-.9-2-2-2zM9 17H7v-7h2v7zm4 0h-2V7h2v10zm4 0h-2v-4h2v4z\"/>\n",
       "    </g>\n",
       "</svg>\n",
       "  </button>\n",
       "\n",
       "<style>\n",
       "  .colab-df-quickchart {\n",
       "      --bg-color: #E8F0FE;\n",
       "      --fill-color: #1967D2;\n",
       "      --hover-bg-color: #E2EBFA;\n",
       "      --hover-fill-color: #174EA6;\n",
       "      --disabled-fill-color: #AAA;\n",
       "      --disabled-bg-color: #DDD;\n",
       "  }\n",
       "\n",
       "  [theme=dark] .colab-df-quickchart {\n",
       "      --bg-color: #3B4455;\n",
       "      --fill-color: #D2E3FC;\n",
       "      --hover-bg-color: #434B5C;\n",
       "      --hover-fill-color: #FFFFFF;\n",
       "      --disabled-bg-color: #3B4455;\n",
       "      --disabled-fill-color: #666;\n",
       "  }\n",
       "\n",
       "  .colab-df-quickchart {\n",
       "    background-color: var(--bg-color);\n",
       "    border: none;\n",
       "    border-radius: 50%;\n",
       "    cursor: pointer;\n",
       "    display: none;\n",
       "    fill: var(--fill-color);\n",
       "    height: 32px;\n",
       "    padding: 0;\n",
       "    width: 32px;\n",
       "  }\n",
       "\n",
       "  .colab-df-quickchart:hover {\n",
       "    background-color: var(--hover-bg-color);\n",
       "    box-shadow: 0 1px 2px rgba(60, 64, 67, 0.3), 0 1px 3px 1px rgba(60, 64, 67, 0.15);\n",
       "    fill: var(--button-hover-fill-color);\n",
       "  }\n",
       "\n",
       "  .colab-df-quickchart-complete:disabled,\n",
       "  .colab-df-quickchart-complete:disabled:hover {\n",
       "    background-color: var(--disabled-bg-color);\n",
       "    fill: var(--disabled-fill-color);\n",
       "    box-shadow: none;\n",
       "  }\n",
       "\n",
       "  .colab-df-spinner {\n",
       "    border: 2px solid var(--fill-color);\n",
       "    border-color: transparent;\n",
       "    border-bottom-color: var(--fill-color);\n",
       "    animation:\n",
       "      spin 1s steps(1) infinite;\n",
       "  }\n",
       "\n",
       "  @keyframes spin {\n",
       "    0% {\n",
       "      border-color: transparent;\n",
       "      border-bottom-color: var(--fill-color);\n",
       "      border-left-color: var(--fill-color);\n",
       "    }\n",
       "    20% {\n",
       "      border-color: transparent;\n",
       "      border-left-color: var(--fill-color);\n",
       "      border-top-color: var(--fill-color);\n",
       "    }\n",
       "    30% {\n",
       "      border-color: transparent;\n",
       "      border-left-color: var(--fill-color);\n",
       "      border-top-color: var(--fill-color);\n",
       "      border-right-color: var(--fill-color);\n",
       "    }\n",
       "    40% {\n",
       "      border-color: transparent;\n",
       "      border-right-color: var(--fill-color);\n",
       "      border-top-color: var(--fill-color);\n",
       "    }\n",
       "    60% {\n",
       "      border-color: transparent;\n",
       "      border-right-color: var(--fill-color);\n",
       "    }\n",
       "    80% {\n",
       "      border-color: transparent;\n",
       "      border-right-color: var(--fill-color);\n",
       "      border-bottom-color: var(--fill-color);\n",
       "    }\n",
       "    90% {\n",
       "      border-color: transparent;\n",
       "      border-bottom-color: var(--fill-color);\n",
       "    }\n",
       "  }\n",
       "</style>\n",
       "\n",
       "  <script>\n",
       "    async function quickchart(key) {\n",
       "      const quickchartButtonEl =\n",
       "        document.querySelector('#' + key + ' button');\n",
       "      quickchartButtonEl.disabled = true;  // To prevent multiple clicks.\n",
       "      quickchartButtonEl.classList.add('colab-df-spinner');\n",
       "      try {\n",
       "        const charts = await google.colab.kernel.invokeFunction(\n",
       "            'suggestCharts', [key], {});\n",
       "      } catch (error) {\n",
       "        console.error('Error during call to suggestCharts:', error);\n",
       "      }\n",
       "      quickchartButtonEl.classList.remove('colab-df-spinner');\n",
       "      quickchartButtonEl.classList.add('colab-df-quickchart-complete');\n",
       "    }\n",
       "    (() => {\n",
       "      let quickchartButtonEl =\n",
       "        document.querySelector('#df-e7ebc7bf-6461-4288-802c-b4a4cd4d14ee button');\n",
       "      quickchartButtonEl.style.display =\n",
       "        google.colab.kernel.accessAllowed ? 'block' : 'none';\n",
       "    })();\n",
       "  </script>\n",
       "</div>\n",
       "\n",
       "    </div>\n",
       "  </div>\n"
      ],
      "text/plain": [
       "                    firm date_review              job_title  \\\n",
       "0  AFH-Wealth-Management  2015-04-05                          \n",
       "1  AFH-Wealth-Management  2015-12-11   Office Administrator   \n",
       "2  AFH-Wealth-Management  2016-01-28   Office Administrator   \n",
       "3  AFH-Wealth-Management  2016-04-16                          \n",
       "4  AFH-Wealth-Management  2016-04-23   Office Administrator   \n",
       "\n",
       "                              current                      location  \\\n",
       "0                    Current Employee                           NaN   \n",
       "1  Current Employee, more than 1 year  Bromsgrove, England, England   \n",
       "2  Current Employee, less than 1 year  Bromsgrove, England, England   \n",
       "3                    Current Employee                           NaN   \n",
       "4  Current Employee, more than 1 year  Bromsgrove, England, England   \n",
       "\n",
       "   overall_rating  work_life_balance  culture_values  diversity_inclusion  \\\n",
       "0               2                4.0             3.0                  NaN   \n",
       "1               2                3.0             1.0                  NaN   \n",
       "2               1                1.0             1.0                  NaN   \n",
       "3               5                2.0             3.0                  NaN   \n",
       "4               1                2.0             1.0                  NaN   \n",
       "\n",
       "   career_opp  comp_benefits  senior_mgmt recommend ceo_approv outlook  \\\n",
       "0         2.0            3.0          3.0         x          o       r   \n",
       "1         2.0            1.0          4.0         x          o       r   \n",
       "2         1.0            1.0          1.0         x          o       x   \n",
       "3         2.0            2.0          3.0         x          o       r   \n",
       "4         2.0            1.0          1.0         x          o       x   \n",
       "\n",
       "                                  headline  \\\n",
       "0  Young colleagues, poor micro management   \n",
       "1             Excellent staff, poor salary   \n",
       "2          Low salary, bad micromanagement   \n",
       "3            Over promised under delivered   \n",
       "4                   client reporting admin   \n",
       "\n",
       "                                                          pros  \\\n",
       "0  Very friendly and welcoming to new staff. Easy going ethic.   \n",
       "1                Friendly, helpful and hard-working colleagues   \n",
       "2       Easy to get the job even without experience in finance   \n",
       "3                                      Nice staff to work with   \n",
       "4                        Easy to get the job, Nice colleagues.   \n",
       "\n",
       "                                                                                                                                                                                                                               cons  \n",
       "0                                                                                                                                                                                   Poor salaries, poor training and communication.  \n",
       "1                                                                                                        Poor salary which doesn't improve much with progression, no incentive to work harder, high turnover of staff, poor systems  \n",
       "2  Very low salary, poor working conditions, very little training provided but high expectations. Micro management are young, inexperienced and superficial girls who are not able to provide guidance and support for their teams.  \n",
       "3                                                                                                                                                                                          No career progression and salary is poor  \n",
       "4    Abysmal pay, around minimum wage. No actual training for your job role. No incentive to improve. training. Leaves a bad taste in the mouth when the CEO drives a roll royce and the majority of the workers are payed so lowly  "
      ]
     },
     "execution_count": 58,
     "metadata": {},
     "output_type": "execute_result"
    }
   ],
   "source": [
    "df = pd.read_csv(\"/content/drive/MyDrive/Sentiment Analysis/data/glassdoor_reviews.csv\")\n",
    "df.head()"
   ]
  },
  {
   "cell_type": "code",
   "execution_count": 59,
   "metadata": {
    "colab": {
     "base_uri": "https://localhost:8080/"
    },
    "executionInfo": {
     "elapsed": 410,
     "status": "ok",
     "timestamp": 1713092048283,
     "user": {
      "displayName": "Sinan Cavusoglu",
      "userId": "06975447756133709697"
     },
     "user_tz": -180
    },
    "id": "Sr9GaWTDYp_E",
    "outputId": "6024e4db-5331-4a1c-dbdd-c0ea3e6a1370"
   },
   "outputs": [
    {
     "name": "stdout",
     "output_type": "stream",
     "text": [
      "<class 'pandas.core.frame.DataFrame'>\n",
      "RangeIndex: 838566 entries, 0 to 838565\n",
      "Data columns (total 18 columns):\n",
      " #   Column               Non-Null Count   Dtype  \n",
      "---  ------               --------------   -----  \n",
      " 0   firm                 838566 non-null  object \n",
      " 1   date_review          838566 non-null  object \n",
      " 2   job_title            838566 non-null  object \n",
      " 3   current              838566 non-null  object \n",
      " 4   location             541223 non-null  object \n",
      " 5   overall_rating       838566 non-null  int64  \n",
      " 6   work_life_balance    688672 non-null  float64\n",
      " 7   culture_values       647193 non-null  float64\n",
      " 8   diversity_inclusion  136066 non-null  float64\n",
      " 9   career_opp           691065 non-null  float64\n",
      " 10  comp_benefits        688484 non-null  float64\n",
      " 11  senior_mgmt          682690 non-null  float64\n",
      " 12  recommend            838566 non-null  object \n",
      " 13  ceo_approv           838566 non-null  object \n",
      " 14  outlook              838566 non-null  object \n",
      " 15  headline             835976 non-null  object \n",
      " 16  pros                 838564 non-null  object \n",
      " 17  cons                 838553 non-null  object \n",
      "dtypes: float64(6), int64(1), object(11)\n",
      "memory usage: 115.2+ MB\n"
     ]
    }
   ],
   "source": [
    "df.info()"
   ]
  },
  {
   "cell_type": "markdown",
   "metadata": {
    "id": "E53t_s_6jyGJ"
   },
   "source": [
    "<strong>Focusing on Text Data and Overall Rating.</strong>\n",
    "\n",
    "So, drop unnecessary columns"
   ]
  },
  {
   "cell_type": "code",
   "execution_count": 60,
   "metadata": {
    "colab": {
     "base_uri": "https://localhost:8080/",
     "height": 414
    },
    "executionInfo": {
     "elapsed": 4,
     "status": "ok",
     "timestamp": 1713092048283,
     "user": {
      "displayName": "Sinan Cavusoglu",
      "userId": "06975447756133709697"
     },
     "user_tz": -180
    },
    "id": "Z0AoJzpVibHU",
    "outputId": "0a089e47-20cf-451c-aa29-2d87d921c022"
   },
   "outputs": [
    {
     "data": {
      "application/vnd.google.colaboratory.intrinsic+json": {
       "repr_error": "0",
       "type": "dataframe"
      },
      "text/html": [
       "\n",
       "  <div id=\"df-9ad18477-1d86-4699-ba6e-383bc5ade98e\" class=\"colab-df-container\">\n",
       "    <div>\n",
       "<style scoped>\n",
       "    .dataframe tbody tr th:only-of-type {\n",
       "        vertical-align: middle;\n",
       "    }\n",
       "\n",
       "    .dataframe tbody tr th {\n",
       "        vertical-align: top;\n",
       "    }\n",
       "\n",
       "    .dataframe thead th {\n",
       "        text-align: right;\n",
       "    }\n",
       "</style>\n",
       "<table border=\"1\" class=\"dataframe\">\n",
       "  <thead>\n",
       "    <tr style=\"text-align: right;\">\n",
       "      <th></th>\n",
       "      <th>overall_rating</th>\n",
       "      <th>headline</th>\n",
       "      <th>pros</th>\n",
       "      <th>cons</th>\n",
       "      <th>firm</th>\n",
       "      <th>date_review</th>\n",
       "    </tr>\n",
       "  </thead>\n",
       "  <tbody>\n",
       "    <tr>\n",
       "      <th>711915</th>\n",
       "      <td>2</td>\n",
       "      <td>Customer service complaints</td>\n",
       "      <td>Not many.  Lots of overtime as high staff turnover.  Good salary and clean environment.</td>\n",
       "      <td>Full time work but kept on 0 hour contracts for over 3 years.  Expected to meet all the same targets as the contracted staff with none of the benefits or job security.  Very high staff turnover as is a very depressing place to work.  Not a place to work if you want to help customers as the focus is on getting them off the phone as soon as possible giving them as little information as possible.  This is not a job for a person who enjoys customer service.</td>\n",
       "      <td>Royal-Mail</td>\n",
       "      <td>2017-05-26</td>\n",
       "    </tr>\n",
       "    <tr>\n",
       "      <th>735506</th>\n",
       "      <td>2</td>\n",
       "      <td>Not all the glitters is gold.</td>\n",
       "      <td>Salesforce overall is an amazing organization filled with some truly talented people. The product is incredible and the applications are exciting. Their philosophy and culture are world-class. Excellent professional and personal development opportunities.</td>\n",
       "      <td>Interestingly, what most excited me about Salesforce is what I found most lacking. I found the environment very sexist, male-dominated, negative, and non-inclusive. There is virtually no trust and I feel completely accurate in stating there is no work-life balance. You are collateral damage in the way to achieving a monthly quota. I left a paranoid, shattered professional with emotional scars I would equate to abuse. I'm sure not all experiences are the same as mine. I was unfortunate to land where I did within the organization. I know there are many folks who flourish there.</td>\n",
       "      <td>Salesforce</td>\n",
       "      <td>2016-07-10</td>\n",
       "    </tr>\n",
       "    <tr>\n",
       "      <th>535259</th>\n",
       "      <td>4</td>\n",
       "      <td>okay</td>\n",
       "      <td>friendly, room for promotion depends</td>\n",
       "      <td>too large of a company for some</td>\n",
       "      <td>McDonald-s</td>\n",
       "      <td>2020-08-12</td>\n",
       "    </tr>\n",
       "    <tr>\n",
       "      <th>626216</th>\n",
       "      <td>2</td>\n",
       "      <td>Sales</td>\n",
       "      <td>Huge organization with resources abound.  Legacy titles that own the marketplace and a footprint that can not be matched</td>\n",
       "      <td>Lack of client focus and care about what the client thinks.  Antiquated GTM and view that the world belongs to Oracle and why would anyone think differently</td>\n",
       "      <td>Oracle</td>\n",
       "      <td>2016-07-13</td>\n",
       "    </tr>\n",
       "    <tr>\n",
       "      <th>104093</th>\n",
       "      <td>2</td>\n",
       "      <td>Don't Waste Your Time</td>\n",
       "      <td>Great products and people, excluding most VP/SVP's and above</td>\n",
       "      <td>Senior executives are afraid to take risks.  They will do almost anything to protect their position to keep the high compensation flowing to their bank account.</td>\n",
       "      <td>Blue-Yonder</td>\n",
       "      <td>2013-08-15</td>\n",
       "    </tr>\n",
       "  </tbody>\n",
       "</table>\n",
       "</div>\n",
       "    <div class=\"colab-df-buttons\">\n",
       "\n",
       "  <div class=\"colab-df-container\">\n",
       "    <button class=\"colab-df-convert\" onclick=\"convertToInteractive('df-9ad18477-1d86-4699-ba6e-383bc5ade98e')\"\n",
       "            title=\"Convert this dataframe to an interactive table.\"\n",
       "            style=\"display:none;\">\n",
       "\n",
       "  <svg xmlns=\"http://www.w3.org/2000/svg\" height=\"24px\" viewBox=\"0 -960 960 960\">\n",
       "    <path d=\"M120-120v-720h720v720H120Zm60-500h600v-160H180v160Zm220 220h160v-160H400v160Zm0 220h160v-160H400v160ZM180-400h160v-160H180v160Zm440 0h160v-160H620v160ZM180-180h160v-160H180v160Zm440 0h160v-160H620v160Z\"/>\n",
       "  </svg>\n",
       "    </button>\n",
       "\n",
       "  <style>\n",
       "    .colab-df-container {\n",
       "      display:flex;\n",
       "      gap: 12px;\n",
       "    }\n",
       "\n",
       "    .colab-df-convert {\n",
       "      background-color: #E8F0FE;\n",
       "      border: none;\n",
       "      border-radius: 50%;\n",
       "      cursor: pointer;\n",
       "      display: none;\n",
       "      fill: #1967D2;\n",
       "      height: 32px;\n",
       "      padding: 0 0 0 0;\n",
       "      width: 32px;\n",
       "    }\n",
       "\n",
       "    .colab-df-convert:hover {\n",
       "      background-color: #E2EBFA;\n",
       "      box-shadow: 0px 1px 2px rgba(60, 64, 67, 0.3), 0px 1px 3px 1px rgba(60, 64, 67, 0.15);\n",
       "      fill: #174EA6;\n",
       "    }\n",
       "\n",
       "    .colab-df-buttons div {\n",
       "      margin-bottom: 4px;\n",
       "    }\n",
       "\n",
       "    [theme=dark] .colab-df-convert {\n",
       "      background-color: #3B4455;\n",
       "      fill: #D2E3FC;\n",
       "    }\n",
       "\n",
       "    [theme=dark] .colab-df-convert:hover {\n",
       "      background-color: #434B5C;\n",
       "      box-shadow: 0px 1px 3px 1px rgba(0, 0, 0, 0.15);\n",
       "      filter: drop-shadow(0px 1px 2px rgba(0, 0, 0, 0.3));\n",
       "      fill: #FFFFFF;\n",
       "    }\n",
       "  </style>\n",
       "\n",
       "    <script>\n",
       "      const buttonEl =\n",
       "        document.querySelector('#df-9ad18477-1d86-4699-ba6e-383bc5ade98e button.colab-df-convert');\n",
       "      buttonEl.style.display =\n",
       "        google.colab.kernel.accessAllowed ? 'block' : 'none';\n",
       "\n",
       "      async function convertToInteractive(key) {\n",
       "        const element = document.querySelector('#df-9ad18477-1d86-4699-ba6e-383bc5ade98e');\n",
       "        const dataTable =\n",
       "          await google.colab.kernel.invokeFunction('convertToInteractive',\n",
       "                                                    [key], {});\n",
       "        if (!dataTable) return;\n",
       "\n",
       "        const docLinkHtml = 'Like what you see? Visit the ' +\n",
       "          '<a target=\"_blank\" href=https://colab.research.google.com/notebooks/data_table.ipynb>data table notebook</a>'\n",
       "          + ' to learn more about interactive tables.';\n",
       "        element.innerHTML = '';\n",
       "        dataTable['output_type'] = 'display_data';\n",
       "        await google.colab.output.renderOutput(dataTable, element);\n",
       "        const docLink = document.createElement('div');\n",
       "        docLink.innerHTML = docLinkHtml;\n",
       "        element.appendChild(docLink);\n",
       "      }\n",
       "    </script>\n",
       "  </div>\n",
       "\n",
       "\n",
       "<div id=\"df-f318f4d2-809d-460d-96af-d7b1b8d2f40b\">\n",
       "  <button class=\"colab-df-quickchart\" onclick=\"quickchart('df-f318f4d2-809d-460d-96af-d7b1b8d2f40b')\"\n",
       "            title=\"Suggest charts\"\n",
       "            style=\"display:none;\">\n",
       "\n",
       "<svg xmlns=\"http://www.w3.org/2000/svg\" height=\"24px\"viewBox=\"0 0 24 24\"\n",
       "     width=\"24px\">\n",
       "    <g>\n",
       "        <path d=\"M19 3H5c-1.1 0-2 .9-2 2v14c0 1.1.9 2 2 2h14c1.1 0 2-.9 2-2V5c0-1.1-.9-2-2-2zM9 17H7v-7h2v7zm4 0h-2V7h2v10zm4 0h-2v-4h2v4z\"/>\n",
       "    </g>\n",
       "</svg>\n",
       "  </button>\n",
       "\n",
       "<style>\n",
       "  .colab-df-quickchart {\n",
       "      --bg-color: #E8F0FE;\n",
       "      --fill-color: #1967D2;\n",
       "      --hover-bg-color: #E2EBFA;\n",
       "      --hover-fill-color: #174EA6;\n",
       "      --disabled-fill-color: #AAA;\n",
       "      --disabled-bg-color: #DDD;\n",
       "  }\n",
       "\n",
       "  [theme=dark] .colab-df-quickchart {\n",
       "      --bg-color: #3B4455;\n",
       "      --fill-color: #D2E3FC;\n",
       "      --hover-bg-color: #434B5C;\n",
       "      --hover-fill-color: #FFFFFF;\n",
       "      --disabled-bg-color: #3B4455;\n",
       "      --disabled-fill-color: #666;\n",
       "  }\n",
       "\n",
       "  .colab-df-quickchart {\n",
       "    background-color: var(--bg-color);\n",
       "    border: none;\n",
       "    border-radius: 50%;\n",
       "    cursor: pointer;\n",
       "    display: none;\n",
       "    fill: var(--fill-color);\n",
       "    height: 32px;\n",
       "    padding: 0;\n",
       "    width: 32px;\n",
       "  }\n",
       "\n",
       "  .colab-df-quickchart:hover {\n",
       "    background-color: var(--hover-bg-color);\n",
       "    box-shadow: 0 1px 2px rgba(60, 64, 67, 0.3), 0 1px 3px 1px rgba(60, 64, 67, 0.15);\n",
       "    fill: var(--button-hover-fill-color);\n",
       "  }\n",
       "\n",
       "  .colab-df-quickchart-complete:disabled,\n",
       "  .colab-df-quickchart-complete:disabled:hover {\n",
       "    background-color: var(--disabled-bg-color);\n",
       "    fill: var(--disabled-fill-color);\n",
       "    box-shadow: none;\n",
       "  }\n",
       "\n",
       "  .colab-df-spinner {\n",
       "    border: 2px solid var(--fill-color);\n",
       "    border-color: transparent;\n",
       "    border-bottom-color: var(--fill-color);\n",
       "    animation:\n",
       "      spin 1s steps(1) infinite;\n",
       "  }\n",
       "\n",
       "  @keyframes spin {\n",
       "    0% {\n",
       "      border-color: transparent;\n",
       "      border-bottom-color: var(--fill-color);\n",
       "      border-left-color: var(--fill-color);\n",
       "    }\n",
       "    20% {\n",
       "      border-color: transparent;\n",
       "      border-left-color: var(--fill-color);\n",
       "      border-top-color: var(--fill-color);\n",
       "    }\n",
       "    30% {\n",
       "      border-color: transparent;\n",
       "      border-left-color: var(--fill-color);\n",
       "      border-top-color: var(--fill-color);\n",
       "      border-right-color: var(--fill-color);\n",
       "    }\n",
       "    40% {\n",
       "      border-color: transparent;\n",
       "      border-right-color: var(--fill-color);\n",
       "      border-top-color: var(--fill-color);\n",
       "    }\n",
       "    60% {\n",
       "      border-color: transparent;\n",
       "      border-right-color: var(--fill-color);\n",
       "    }\n",
       "    80% {\n",
       "      border-color: transparent;\n",
       "      border-right-color: var(--fill-color);\n",
       "      border-bottom-color: var(--fill-color);\n",
       "    }\n",
       "    90% {\n",
       "      border-color: transparent;\n",
       "      border-bottom-color: var(--fill-color);\n",
       "    }\n",
       "  }\n",
       "</style>\n",
       "\n",
       "  <script>\n",
       "    async function quickchart(key) {\n",
       "      const quickchartButtonEl =\n",
       "        document.querySelector('#' + key + ' button');\n",
       "      quickchartButtonEl.disabled = true;  // To prevent multiple clicks.\n",
       "      quickchartButtonEl.classList.add('colab-df-spinner');\n",
       "      try {\n",
       "        const charts = await google.colab.kernel.invokeFunction(\n",
       "            'suggestCharts', [key], {});\n",
       "      } catch (error) {\n",
       "        console.error('Error during call to suggestCharts:', error);\n",
       "      }\n",
       "      quickchartButtonEl.classList.remove('colab-df-spinner');\n",
       "      quickchartButtonEl.classList.add('colab-df-quickchart-complete');\n",
       "    }\n",
       "    (() => {\n",
       "      let quickchartButtonEl =\n",
       "        document.querySelector('#df-f318f4d2-809d-460d-96af-d7b1b8d2f40b button');\n",
       "      quickchartButtonEl.style.display =\n",
       "        google.colab.kernel.accessAllowed ? 'block' : 'none';\n",
       "    })();\n",
       "  </script>\n",
       "</div>\n",
       "\n",
       "    </div>\n",
       "  </div>\n"
      ],
      "text/plain": [
       "        overall_rating                       headline  \\\n",
       "711915               2    Customer service complaints   \n",
       "735506               2  Not all the glitters is gold.   \n",
       "535259               4                           okay   \n",
       "626216               2                          Sales   \n",
       "104093               2          Don't Waste Your Time   \n",
       "\n",
       "                                                                                                                                                                                                                                                                   pros  \\\n",
       "711915                                                                                                                                                                          Not many.  Lots of overtime as high staff turnover.  Good salary and clean environment.   \n",
       "735506  Salesforce overall is an amazing organization filled with some truly talented people. The product is incredible and the applications are exciting. Their philosophy and culture are world-class. Excellent professional and personal development opportunities.   \n",
       "535259                                                                                                                                                                                                                             friendly, room for promotion depends   \n",
       "626216                                                                                                                                         Huge organization with resources abound.  Legacy titles that own the marketplace and a footprint that can not be matched   \n",
       "104093                                                                                                                                                                                                     Great products and people, excluding most VP/SVP's and above   \n",
       "\n",
       "                                                                                                                                                                                                                                                                                                                                                                                                                                                                                                                                                                                                          cons  \\\n",
       "711915                                                                                                                               Full time work but kept on 0 hour contracts for over 3 years.  Expected to meet all the same targets as the contracted staff with none of the benefits or job security.  Very high staff turnover as is a very depressing place to work.  Not a place to work if you want to help customers as the focus is on getting them off the phone as soon as possible giving them as little information as possible.  This is not a job for a person who enjoys customer service.   \n",
       "735506  Interestingly, what most excited me about Salesforce is what I found most lacking. I found the environment very sexist, male-dominated, negative, and non-inclusive. There is virtually no trust and I feel completely accurate in stating there is no work-life balance. You are collateral damage in the way to achieving a monthly quota. I left a paranoid, shattered professional with emotional scars I would equate to abuse. I'm sure not all experiences are the same as mine. I was unfortunate to land where I did within the organization. I know there are many folks who flourish there.   \n",
       "535259                                                                                                                                                                                                                                                                                                                                                                                                                                                                                                                                                                         too large of a company for some   \n",
       "626216                                                                                                                                                                                                                                                                                                                                                                                                                                            Lack of client focus and care about what the client thinks.  Antiquated GTM and view that the world belongs to Oracle and why would anyone think differently   \n",
       "104093                                                                                                                                                                                                                                                                                                                                                                                                                                        Senior executives are afraid to take risks.  They will do almost anything to protect their position to keep the high compensation flowing to their bank account.   \n",
       "\n",
       "               firm date_review  \n",
       "711915   Royal-Mail  2017-05-26  \n",
       "735506   Salesforce  2016-07-10  \n",
       "535259   McDonald-s  2020-08-12  \n",
       "626216       Oracle  2016-07-13  \n",
       "104093  Blue-Yonder  2013-08-15  "
      ]
     },
     "execution_count": 60,
     "metadata": {},
     "output_type": "execute_result"
    }
   ],
   "source": [
    "df = df[[\"overall_rating\",\"headline\",\"pros\",\"cons\",\"firm\",\"date_review\"]]\n",
    "df.sample(5)"
   ]
  },
  {
   "cell_type": "markdown",
   "metadata": {
    "id": "9NPBxvppkknL"
   },
   "source": [
    "## Handling the Missing Values and Duplicated"
   ]
  },
  {
   "cell_type": "code",
   "execution_count": 61,
   "metadata": {
    "colab": {
     "base_uri": "https://localhost:8080/"
    },
    "executionInfo": {
     "elapsed": 731,
     "status": "ok",
     "timestamp": 1713092049010,
     "user": {
      "displayName": "Sinan Cavusoglu",
      "userId": "06975447756133709697"
     },
     "user_tz": -180
    },
    "id": "gUegC9Kai6Dj",
    "outputId": "70d2f6e0-888f-4d94-8da3-7c98d40cf9a6"
   },
   "outputs": [
    {
     "data": {
      "text/plain": [
       "overall_rating       0\n",
       "headline          2590\n",
       "pros                 2\n",
       "cons                13\n",
       "firm                 0\n",
       "date_review          0\n",
       "dtype: int64"
      ]
     },
     "execution_count": 61,
     "metadata": {},
     "output_type": "execute_result"
    }
   ],
   "source": [
    "df.isnull().sum()"
   ]
  },
  {
   "cell_type": "code",
   "execution_count": 62,
   "metadata": {
    "colab": {
     "base_uri": "https://localhost:8080/"
    },
    "executionInfo": {
     "elapsed": 1375,
     "status": "ok",
     "timestamp": 1713092050384,
     "user": {
      "displayName": "Sinan Cavusoglu",
      "userId": "06975447756133709697"
     },
     "user_tz": -180
    },
    "id": "1LVgW93TjdFa",
    "outputId": "2240acab-7c0d-471c-a62e-308eaa5dd5b7"
   },
   "outputs": [
    {
     "data": {
      "text/plain": [
       "34979"
      ]
     },
     "execution_count": 62,
     "metadata": {},
     "output_type": "execute_result"
    }
   ],
   "source": [
    "df.duplicated([\"headline\",\t\"pros\",\t\"cons\"]).sum()"
   ]
  },
  {
   "cell_type": "code",
   "execution_count": 63,
   "metadata": {
    "executionInfo": {
     "elapsed": 2,
     "status": "ok",
     "timestamp": 1713092050384,
     "user": {
      "displayName": "Sinan Cavusoglu",
      "userId": "06975447756133709697"
     },
     "user_tz": -180
    },
    "id": "w1VUoLKDWGl1"
   },
   "outputs": [],
   "source": [
    "# First drop all duplicated values\n",
    "# Then, fill the NaN values with \"\""
   ]
  },
  {
   "cell_type": "code",
   "execution_count": 64,
   "metadata": {
    "executionInfo": {
     "elapsed": 2040,
     "status": "ok",
     "timestamp": 1713092052422,
     "user": {
      "displayName": "Sinan Cavusoglu",
      "userId": "06975447756133709697"
     },
     "user_tz": -180
    },
    "id": "a3cVaEIdWZNC"
   },
   "outputs": [],
   "source": [
    "df = df.drop_duplicates()\n",
    "df = df.fillna(\"\")"
   ]
  },
  {
   "cell_type": "code",
   "execution_count": 65,
   "metadata": {
    "colab": {
     "base_uri": "https://localhost:8080/"
    },
    "executionInfo": {
     "elapsed": 455,
     "status": "ok",
     "timestamp": 1713092052875,
     "user": {
      "displayName": "Sinan Cavusoglu",
      "userId": "06975447756133709697"
     },
     "user_tz": -180
    },
    "id": "vvmsWYD7Yka8",
    "outputId": "22fbe5b4-e9fe-4292-d600-70ae3745b6f1"
   },
   "outputs": [
    {
     "name": "stdout",
     "output_type": "stream",
     "text": [
      "<class 'pandas.core.frame.DataFrame'>\n",
      "Index: 803632 entries, 0 to 838565\n",
      "Data columns (total 6 columns):\n",
      " #   Column          Non-Null Count   Dtype \n",
      "---  ------          --------------   ----- \n",
      " 0   overall_rating  803632 non-null  int64 \n",
      " 1   headline        803632 non-null  object\n",
      " 2   pros            803632 non-null  object\n",
      " 3   cons            803632 non-null  object\n",
      " 4   firm            803632 non-null  object\n",
      " 5   date_review     803632 non-null  object\n",
      "dtypes: int64(1), object(5)\n",
      "memory usage: 42.9+ MB\n"
     ]
    }
   ],
   "source": [
    "df.info()"
   ]
  },
  {
   "cell_type": "code",
   "execution_count": 66,
   "metadata": {
    "executionInfo": {
     "elapsed": 1023,
     "status": "ok",
     "timestamp": 1713092053896,
     "user": {
      "displayName": "Sinan Cavusoglu",
      "userId": "06975447756133709697"
     },
     "user_tz": -180
    },
    "id": "IT_MENUMkran"
   },
   "outputs": [],
   "source": [
    "# stratified sampling # Training is takes too long (FULL 1 EPOCH 3hr)\n",
    "from sklearn.model_selection import train_test_split\n",
    "\n",
    "df, _ = train_test_split(df, train_size = 0.15, random_state = 42, stratify = df.overall_rating)\n",
    "df = df.reset_index(drop = True)\n",
    "df.overall_rating = df.overall_rating -1 # to pytorch"
   ]
  },
  {
   "cell_type": "markdown",
   "metadata": {
    "id": "nFJ4P7JXZikx"
   },
   "source": [
    "## Look at Some Example"
   ]
  },
  {
   "cell_type": "code",
   "execution_count": 67,
   "metadata": {
    "colab": {
     "base_uri": "https://localhost:8080/"
    },
    "executionInfo": {
     "elapsed": 5,
     "status": "ok",
     "timestamp": 1713092053896,
     "user": {
      "displayName": "Sinan Cavusoglu",
      "userId": "06975447756133709697"
     },
     "user_tz": -180
    },
    "id": "LnVm_X2vZXrE",
    "outputId": "e85d73df-1b1d-44f5-d180-143e7e53373b"
   },
   "outputs": [
    {
     "name": "stdout",
     "output_type": "stream",
     "text": [
      "Firm: PwC\n",
      "Date Review: 2021-01-07\n",
      "Overall Rating: 0\n",
      "Headline: Bad culture in Valuations team\n",
      "Pros: Good starting pay for associates\n",
      "Cons: Bosses and managers disregard staff feedback \r\n",
      "Manager is very rude and disrespectful to staff using profanities and doesn’t guide associates\n",
      "--------------------------------------------------\n",
      "Firm: Tesco\n",
      "Date Review: 2015-05-18\n",
      "Overall Rating: 1\n",
      "Headline: hard to survive\n",
      "Pros: action in daily life, not monotonous\n",
      "Cons: no future, downsizing is always on the table, bad decisions\n",
      "--------------------------------------------------\n",
      "Firm: Vodafone\n",
      "Date Review: 2021-03-15\n",
      "Overall Rating: 2\n",
      "Headline: average pay\n",
      "Pros: good working environment, weekly social meetups\n",
      "Cons: lack of pay, no bonuses\n",
      "--------------------------------------------------\n",
      "Firm: Sytner\n",
      "Date Review: 2020-07-21\n",
      "Overall Rating: 3\n",
      "Headline: Great company to work for\n",
      "Pros: Great management, good working conditions\n",
      "Cons: None significant to speak of\n",
      "--------------------------------------------------\n",
      "Firm: Transport-for-London\n",
      "Date Review: 2021-03-08\n",
      "Overall Rating: 4\n",
      "Headline: Customer Service Supervisor\n",
      "Pros: Good salary and helpful incentives\n",
      "Cons: Shift work makes work and home life hard\n",
      "--------------------------------------------------\n"
     ]
    }
   ],
   "source": [
    "for i in range(5):\n",
    "    tm = df[df.overall_rating == i].sample(1, random_state = 1)\n",
    "    print(\"Firm:\", tm.firm.values[0])\n",
    "    print(\"Date Review:\", tm.date_review.values[0])\n",
    "    print(\"Overall Rating:\", tm.overall_rating.values[0])\n",
    "    print(\"Headline:\",  tm.headline.values[0])\n",
    "    print(\"Pros:\",  tm.pros.values[0])\n",
    "    print(\"Cons:\",  tm.cons.values[0])\n",
    "    print(\"-\"*50)"
   ]
  },
  {
   "cell_type": "markdown",
   "metadata": {
    "id": "hSf4TLOyiV2F"
   },
   "source": [
    "## Cleaning the Sentences"
   ]
  },
  {
   "cell_type": "code",
   "execution_count": 68,
   "metadata": {
    "executionInfo": {
     "elapsed": 4,
     "status": "ok",
     "timestamp": 1713092053897,
     "user": {
      "displayName": "Sinan Cavusoglu",
      "userId": "06975447756133709697"
     },
     "user_tz": -180
    },
    "id": "Igp0qTv2bMtH"
   },
   "outputs": [],
   "source": [
    "def cleaning_sentences(sen):\n",
    "    # Remove all the special characters\n",
    "    sen = re.sub(r\"[^\\w\\s]\", \" \", sen)\n",
    "    sen = re.sub(r\"\\s+\", \" \", sen, flags=re.I)\n",
    "    return sen"
   ]
  },
  {
   "cell_type": "code",
   "execution_count": 69,
   "metadata": {
    "colab": {
     "base_uri": "https://localhost:8080/",
     "height": 36
    },
    "executionInfo": {
     "elapsed": 4,
     "status": "ok",
     "timestamp": 1713092053897,
     "user": {
      "displayName": "Sinan Cavusoglu",
      "userId": "06975447756133709697"
     },
     "user_tz": -180
    },
    "id": "R6VDRvHj6Czk",
    "outputId": "f697ffc4-db38-4bec-b390-40b812407c0c"
   },
   "outputs": [
    {
     "data": {
      "application/vnd.google.colaboratory.intrinsic+json": {
       "type": "string"
      },
      "text/plain": [
       "'Lots of exposure\\r\\nLots of learning'"
      ]
     },
     "execution_count": 69,
     "metadata": {},
     "output_type": "execute_result"
    }
   ],
   "source": [
    "# i.e\n",
    "df[\"pros\"].iloc[41]"
   ]
  },
  {
   "cell_type": "code",
   "execution_count": 70,
   "metadata": {
    "colab": {
     "base_uri": "https://localhost:8080/"
    },
    "executionInfo": {
     "elapsed": 1370,
     "status": "ok",
     "timestamp": 1713092055264,
     "user": {
      "displayName": "Sinan Cavusoglu",
      "userId": "06975447756133709697"
     },
     "user_tz": -180
    },
    "id": "47Xly_1d6H1D",
    "outputId": "3a308276-fce4-4b8d-fca2-f2663cd3d48d"
   },
   "outputs": [
    {
     "name": "stdout",
     "output_type": "stream",
     "text": [
      "Lots of exposure Lots of learning\n"
     ]
    }
   ],
   "source": [
    "print(df[\"pros\"].apply(cleaning_sentences).iloc[41])"
   ]
  },
  {
   "cell_type": "code",
   "execution_count": 71,
   "metadata": {
    "executionInfo": {
     "elapsed": 3551,
     "status": "ok",
     "timestamp": 1713092058813,
     "user": {
      "displayName": "Sinan Cavusoglu",
      "userId": "06975447756133709697"
     },
     "user_tz": -180
    },
    "id": "euBiU7sf6fGM"
   },
   "outputs": [],
   "source": [
    "df[\"headline\"] = df[\"headline\"].apply(cleaning_sentences)\n",
    "df[\"pros\"] = df[\"pros\"].apply(cleaning_sentences)\n",
    "df[\"cons\"] = df[\"cons\"].apply(cleaning_sentences)"
   ]
  },
  {
   "cell_type": "markdown",
   "metadata": {
    "id": "YOdtEQxj9Qxm"
   },
   "source": [
    "## Looking at the Data Distribution"
   ]
  },
  {
   "cell_type": "code",
   "execution_count": 72,
   "metadata": {
    "colab": {
     "base_uri": "https://localhost:8080/",
     "height": 549
    },
    "executionInfo": {
     "elapsed": 984,
     "status": "ok",
     "timestamp": 1713092059787,
     "user": {
      "displayName": "Sinan Cavusoglu",
      "userId": "06975447756133709697"
     },
     "user_tz": -180
    },
    "id": "YD8mHyQKU290",
    "outputId": "6fcf93c4-c411-4e92-907b-8786e174087b"
   },
   "outputs": [
    {
     "data": {
      "image/png": "[encoded data removed]",
      "text/plain": [
       "<Figure size 1400x600 with 1 Axes>"
      ]
     },
     "metadata": {},
     "output_type": "display_data"
    }
   ],
   "source": [
    "df['overall_rating'].value_counts().sort_index(ascending=True).plot.bar(color=\"green\")\n",
    "percentages = df['overall_rating'].value_counts(normalize=True).sort_index() * 100\n",
    "for i, percentage in enumerate(percentages):\n",
    "    plt.text(i, percentage, f'{percentage:.2f}%', ha='center', va='bottom')\n",
    "\n",
    "plt.show()"
   ]
  },
  {
   "cell_type": "code",
   "execution_count": 73,
   "metadata": {
    "executionInfo": {
     "elapsed": 4,
     "status": "ok",
     "timestamp": 1713092059787,
     "user": {
      "displayName": "Sinan Cavusoglu",
      "userId": "06975447756133709697"
     },
     "user_tz": -180
    },
    "id": "BDk-pNmJVB8Y"
   },
   "outputs": [],
   "source": [
    "#data imbalance"
   ]
  },
  {
   "cell_type": "code",
   "execution_count": 74,
   "metadata": {
    "executionInfo": {
     "elapsed": 3,
     "status": "ok",
     "timestamp": 1713092059787,
     "user": {
      "displayName": "Sinan Cavusoglu",
      "userId": "06975447756133709697"
     },
     "user_tz": -180
    },
    "id": "Lg637SjlAeTv"
   },
   "outputs": [],
   "source": [
    "def sq_overall_rating(x):\n",
    "    if x == 0 or x== 1:\n",
    "        return 0\n",
    "    if x == 2:\n",
    "        return 1\n",
    "    else:\n",
    "        return 2"
   ]
  },
  {
   "cell_type": "code",
   "execution_count": 75,
   "metadata": {
    "executionInfo": {
     "elapsed": 3,
     "status": "ok",
     "timestamp": 1713092059787,
     "user": {
      "displayName": "Sinan Cavusoglu",
      "userId": "06975447756133709697"
     },
     "user_tz": -180
    },
    "id": "kkJH8T1l_Jjf"
   },
   "outputs": [],
   "source": [
    "df.overall_rating = df.overall_rating.apply(sq_overall_rating)"
   ]
  },
  {
   "cell_type": "code",
   "execution_count": 76,
   "metadata": {
    "colab": {
     "base_uri": "https://localhost:8080/",
     "height": 549
    },
    "executionInfo": {
     "elapsed": 450,
     "status": "ok",
     "timestamp": 1713092060234,
     "user": {
      "displayName": "Sinan Cavusoglu",
      "userId": "06975447756133709697"
     },
     "user_tz": -180
    },
    "id": "v5Q8XnofA0H4",
    "outputId": "fa14e8ab-413b-486f-aaae-341d87c86477"
   },
   "outputs": [
    {
     "data": {
      "image/png": "[encoded data removed]",
      "text/plain": [
       "<Figure size 1400x600 with 1 Axes>"
      ]
     },
     "metadata": {},
     "output_type": "display_data"
    }
   ],
   "source": [
    "df['overall_rating'].value_counts().sort_index(ascending=True).plot.bar(color=\"green\")\n",
    "percentages = df['overall_rating'].value_counts(normalize=True).sort_index() * 100\n",
    "for i, percentage in enumerate(percentages):\n",
    "    plt.text(i, percentage, f'{percentage:.2f}%', ha='center', va='bottom')\n",
    "\n",
    "plt.show()"
   ]
  },
  {
   "cell_type": "code",
   "execution_count": 77,
   "metadata": {
    "executionInfo": {
     "elapsed": 299,
     "status": "ok",
     "timestamp": 1713092060530,
     "user": {
      "displayName": "Sinan Cavusoglu",
      "userId": "06975447756133709697"
     },
     "user_tz": -180
    },
    "id": "TOL6wgqfI67A"
   },
   "outputs": [],
   "source": [
    "df[\"head_len\"] = df[\"headline\"].apply(lambda x:len(x.split()))\n",
    "df[\"pros_len\"] = df[\"pros\"].apply(lambda x:len(x.split()))\n",
    "df[\"cons_len\"] = df[\"cons\"].apply(lambda x:len(x.split()))"
   ]
  },
  {
   "cell_type": "code",
   "execution_count": 78,
   "metadata": {
    "executionInfo": {
     "elapsed": 2,
     "status": "ok",
     "timestamp": 1713092060530,
     "user": {
      "displayName": "Sinan Cavusoglu",
      "userId": "06975447756133709697"
     },
     "user_tz": -180
    },
    "id": "rcMmkHbDLtfb"
   },
   "outputs": [],
   "source": [
    "df[\"head_len_cat\"] = pd.cut(df[\"head_len\"] , bins = [0,10,20,30,40,50,np.inf], labels= [\"0-10\",\"10-20\",\"20-30\",\"30-40\",\"40-50\",\"50+\"])\n",
    "df[\"pros_len_cat\"] = pd.cut(df[\"pros_len\"], bins = [0,10,20,30,40,50,np.inf], labels= [\"0-10\",\"10-20\",\"20-30\",\"30-40\",\"40-50\",\"50+\"])\n",
    "df[\"cons_len_cat\"] = pd.cut(df[\"cons_len\"], bins = [0,10,20,30,40,50,np.inf], labels= [\"0-10\",\"10-20\",\"20-30\",\"30-40\",\"40-50\",\"50+\"])"
   ]
  },
  {
   "cell_type": "code",
   "execution_count": 79,
   "metadata": {
    "colab": {
     "base_uri": "https://localhost:8080/",
     "height": 993
    },
    "executionInfo": {
     "elapsed": 2164,
     "status": "ok",
     "timestamp": 1713092062692,
     "user": {
      "displayName": "Sinan Cavusoglu",
      "userId": "06975447756133709697"
     },
     "user_tz": -180
    },
    "id": "uO3QT5wk9H6L",
    "outputId": "bb098b9a-283c-4447-da0d-2ad4cc0cd304"
   },
   "outputs": [
    {
     "data": {
      "image/png": "[encoded data removed]",
      "text/plain": [
       "<Figure size 1500x1000 with 3 Axes>"
      ]
     },
     "metadata": {},
     "output_type": "display_data"
    }
   ],
   "source": [
    "fig, axs = plt.subplots(3,1, figsize=(15, 10))\n",
    "sns.countplot(df, x =\"head_len_cat\", hue = \"overall_rating\", ax = axs[0])\n",
    "sns.countplot(df, x =\"pros_len_cat\", hue = \"overall_rating\", ax = axs[1], legend=None)\n",
    "sns.countplot(df, x =\"cons_len_cat\", hue = \"overall_rating\", ax = axs[2], legend=None)\n",
    "plt.tight_layout()"
   ]
  },
  {
   "cell_type": "code",
   "execution_count": 80,
   "metadata": {
    "executionInfo": {
     "elapsed": 3,
     "status": "ok",
     "timestamp": 1713092062692,
     "user": {
      "displayName": "Sinan Cavusoglu",
      "userId": "06975447756133709697"
     },
     "user_tz": -180
    },
    "id": "_wvrcpdRBSnq"
   },
   "outputs": [],
   "source": [
    "# Long senteces and ratings have a correlation"
   ]
  },
  {
   "cell_type": "markdown",
   "metadata": {
    "id": "IMJe6_WaflF5"
   },
   "source": [
    "## Dealing with Data Imbalance\n",
    "https://medium.com/@dinghan1995/how-to-tackle-dataset-class-imbalance-for-nlp-4453af6f6b87\n",
    "\n",
    "#### 1) Collect More Data:\n",
    "If feasible, collecting more data for the minority classes can help balance out the dataset.\n",
    "\n",
    "#### 2) Resampling Techniques:\n",
    "* Over-sampling:\n",
    "Increase the number of instances in the minority class by duplicating or generating new instances.\n",
    "* Under-sampling:\n",
    "Reduce the number of instances in the majority class by randomly removing instances.\n",
    "* Synthetic Minority Over-sampling Technique (SMOTE):\n",
    "Generate synthetic examples for the minority class by interpolating between existing instances.\n",
    "[SMOTE](https://imbalanced-learn.org/stable/references/generated/imblearn.over_sampling.SMOTE.html)\n",
    "\n",
    "#### 3) Weighted Loss Function: Adjust the loss function to penalize misclassifications of minority class instances more heavily. This can be achieved by assigning higher weights to minority class samples.\n",
    "\n",
    "I train my model with weighted Loss"
   ]
  },
  {
   "cell_type": "markdown",
   "metadata": {
    "id": "AH-SjBSzq0th"
   },
   "source": [
    "## Last Look"
   ]
  },
  {
   "cell_type": "code",
   "execution_count": 81,
   "metadata": {
    "executionInfo": {
     "elapsed": 3,
     "status": "ok",
     "timestamp": 1713092062692,
     "user": {
      "displayName": "Sinan Cavusoglu",
      "userId": "06975447756133709697"
     },
     "user_tz": -180
    },
    "id": "aUqniLyTfiTI"
   },
   "outputs": [],
   "source": [
    "# Get rid of all useless columns\n",
    "df[\"review\"] = df[\"headline\"] + \" \" + df[\"pros\"] + \" \" + df[\"cons\"]\n",
    "df = df[[\"review\", \"overall_rating\"]]"
   ]
  },
  {
   "cell_type": "code",
   "execution_count": 82,
   "metadata": {
    "colab": {
     "base_uri": "https://localhost:8080/",
     "height": 608
    },
    "executionInfo": {
     "elapsed": 1121,
     "status": "ok",
     "timestamp": 1713092063811,
     "user": {
      "displayName": "Sinan Cavusoglu",
      "userId": "06975447756133709697"
     },
     "user_tz": -180
    },
    "id": "SJvovq5BxBOW",
    "outputId": "867862a7-77e6-4d1c-e96d-a8207ed6b57d"
   },
   "outputs": [
    {
     "data": {
      "text/plain": [
       "<Axes: xlabel='review'>"
      ]
     },
     "execution_count": 82,
     "metadata": {},
     "output_type": "execute_result"
    },
    {
     "data": {
      "image/png": "[encoded data removed]",
      "text/plain": [
       "<Figure size 1400x600 with 1 Axes>"
      ]
     },
     "metadata": {},
     "output_type": "display_data"
    }
   ],
   "source": [
    "review_len = df.review.apply(lambda x: len(x.split()) )\n",
    "pd.cut(review_len, bins = [0,10,20,30,40,50,60,70,80,np.inf], labels= [\"0-10\",\"10-20\",\"20-30\",\"30-40\",\"40-50\",\"50-60\",\"60-70\",\"70-80\",\"80+\"]).value_counts().sort_index().plot.bar()"
   ]
  },
  {
   "cell_type": "code",
   "execution_count": 83,
   "metadata": {
    "executionInfo": {
     "elapsed": 4,
     "status": "ok",
     "timestamp": 1713092063812,
     "user": {
      "displayName": "Sinan Cavusoglu",
      "userId": "06975447756133709697"
     },
     "user_tz": -180
    },
    "id": "Awi6FgAvDZT9"
   },
   "outputs": [],
   "source": [
    "df = df.reset_index(drop = True)"
   ]
  },
  {
   "cell_type": "code",
   "execution_count": 84,
   "metadata": {
    "colab": {
     "base_uri": "https://localhost:8080/"
    },
    "executionInfo": {
     "elapsed": 4,
     "status": "ok",
     "timestamp": 1713092063812,
     "user": {
      "displayName": "Sinan Cavusoglu",
      "userId": "06975447756133709697"
     },
     "user_tz": -180
    },
    "id": "qx9iHnC2DpPG",
    "outputId": "7a7aa082-aad9-42b1-89cc-78995f062336"
   },
   "outputs": [
    {
     "name": "stdout",
     "output_type": "stream",
     "text": [
      "<class 'pandas.core.frame.DataFrame'>\n",
      "RangeIndex: 120544 entries, 0 to 120543\n",
      "Data columns (total 2 columns):\n",
      " #   Column          Non-Null Count   Dtype \n",
      "---  ------          --------------   ----- \n",
      " 0   review          120544 non-null  object\n",
      " 1   overall_rating  120544 non-null  int64 \n",
      "dtypes: int64(1), object(1)\n",
      "memory usage: 1.8+ MB\n"
     ]
    }
   ],
   "source": [
    "df.info()"
   ]
  },
  {
   "cell_type": "code",
   "execution_count": null,
   "metadata": {
    "id": "_3HdUOJDlBro"
   },
   "outputs": [],
   "source": [
    "df.to_csv(\"cleaning_glassdoor.csv\", index = False)"
   ]
  },
  {
   "cell_type": "code",
   "execution_count": null,
   "metadata": {
    "id": "oQSIk9Cfxjst"
   },
   "outputs": [],
   "source": []
  }
 ],
 "metadata": {
  "colab": {
   "authorship_tag": "ABX9TyN1e91vE85gBEzfBzMzYRWB",
   "mount_file_id": "15Lsu-LJtMvOnVeHobDIu9ebLmfJlkeV5",
   "provenance": []
  },
  "kernelspec": {
   "display_name": "Python 3 (ipykernel)",
   "language": "python",
   "name": "python3"
  },
  "language_info": {
   "codemirror_mode": {
    "name": "ipython",
    "version": 3
   },
   "file_extension": ".py",
   "mimetype": "text/x-python",
   "name": "python",
   "nbconvert_exporter": "python",
   "pygments_lexer": "ipython3",
   "version": "3.11.8"
  }
 },
 "nbformat": 4,
 "nbformat_minor": 4
}
